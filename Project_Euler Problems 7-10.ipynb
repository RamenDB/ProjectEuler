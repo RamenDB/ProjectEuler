{
  "nbformat": 4,
  "nbformat_minor": 0,
  "metadata": {
    "colab": {
      "provenance": [],
      "authorship_tag": "ABX9TyPKHQDVEYL6HtND1cpLxWjv",
      "include_colab_link": true
    },
    "kernelspec": {
      "name": "python3",
      "display_name": "Python 3"
    },
    "language_info": {
      "name": "python"
    }
  },
  "cells": [
    {
      "cell_type": "markdown",
      "metadata": {
        "id": "view-in-github",
        "colab_type": "text"
      },
      "source": [
        "<a href=\"https://colab.research.google.com/github/RamenDB/ProjectEuler/blob/main/Project_Euler_(Problems_7_10).ipynb\" target=\"_parent\"><img src=\"https://colab.research.google.com/assets/colab-badge.svg\" alt=\"Open In Colab\"/></a>"
      ]
    },
    {
      "cell_type": "code",
      "execution_count": null,
      "metadata": {
        "colab": {
          "base_uri": "https://localhost:8080/"
        },
        "id": "fTaCYdFHS0J5",
        "outputId": "08dba9e4-977e-4b99-804e-f85bb6ca1f8e"
      },
      "outputs": [
        {
          "output_type": "stream",
          "name": "stdout",
          "text": [
            "The 10001st prime number is 104743.\n"
          ]
        }
      ],
      "source": [
        "# 10001st prime\n",
        "# Problem 7\n",
        "# By listing the first six prime numbers: 2, 3, 5, 7, 11, and 13, we can see that the 6th prime is 13.\n",
        "\n",
        "# What is the 10 001st prime number?\n",
        "\n",
        "import math\n",
        "\n",
        "n = 2\n",
        "p = 2\n",
        "ordinal = 10001\n",
        "counter = 1\n",
        "a = True\n",
        "\n",
        "while counter <= ordinal:\n",
        "  for y in range(2, math.floor(math.sqrt(n))+1):\n",
        "    if n%y == 0:\n",
        "      a = False\n",
        "  if a == True:\n",
        "    p = n\n",
        "    counter = counter + 1\n",
        "  n = n + 1\n",
        "  a = True\n",
        "\n",
        "#appending the correct suffix\n",
        "suffix = \"th\"\n",
        "if ordinal%10 == 1 and ordinal != 11:\n",
        "  suffix = \"st\"\n",
        "elif ordinal%10 == 2 and ordinal != 12:\n",
        "  suffix = \"nd\"\n",
        "elif ordinal%10 == 3 and ordinal != 13:\n",
        "  suffix = \"rd\"\n",
        "\n",
        "print(\"The\", str(ordinal) + suffix, \"prime number is\", str(p) + \".\")"
      ]
    },
    {
      "cell_type": "code",
      "source": [
        "# Largest product in a series\n",
        "# Problem 8\n",
        "# The four adjacent digits in the 1000-digit number that have\n",
        "# the greatest product are 9 × 9 × 8 × 9 = 5832.\n",
        "\n",
        "# 73167176531330624919225119674426574742355349194934\n",
        "# 96983520312774506326239578318016984801869478851843\n",
        "# 85861560789112949495459501737958331952853208805511\n",
        "# 12540698747158523863050715693290963295227443043557\n",
        "# 66896648950445244523161731856403098711121722383113\n",
        "# 62229893423380308135336276614282806444486645238749\n",
        "# 30358907296290491560440772390713810515859307960866\n",
        "# 70172427121883998797908792274921901699720888093776\n",
        "# 65727333001053367881220235421809751254540594752243\n",
        "# 52584907711670556013604839586446706324415722155397\n",
        "# 53697817977846174064955149290862569321978468622482\n",
        "# 83972241375657056057490261407972968652414535100474\n",
        "# 82166370484403199890008895243450658541227588666881\n",
        "# 16427171479924442928230863465674813919123162824586\n",
        "# 17866458359124566529476545682848912883142607690042\n",
        "# 24219022671055626321111109370544217506941658960408\n",
        "# 07198403850962455444362981230987879927244284909188\n",
        "# 84580156166097919133875499200524063689912560717606\n",
        "# 05886116467109405077541002256983155200055935729725\n",
        "# 71636269561882670428252483600823257530420752963450\n",
        "\n",
        "# Find the thirteen adjacent digits in the 1000-digit number that have the greatest product.\n",
        "# What is the value of this product?\n",
        "\n",
        "import math\n",
        "\n",
        "n = 7316717653133062491922511967442657474235534919493496983520312774506326239578318016984801869478851843858615607891129494954595017379583319528532088055111254069874715852386305071569329096329522744304355766896648950445244523161731856403098711121722383113622298934233803081353362766142828064444866452387493035890729629049156044077239071381051585930796086670172427121883998797908792274921901699720888093776657273330010533678812202354218097512545405947522435258490771167055601360483958644670632441572215539753697817977846174064955149290862569321978468622482839722413756570560574902614079729686524145351004748216637048440319989000889524345065854122758866688116427171479924442928230863465674813919123162824586178664583591245665294765456828489128831426076900422421902267105562632111110937054421750694165896040807198403850962455444362981230987879927244284909188845801561660979191338754992005240636899125607176060588611646710940507754100225698315520005593572972571636269561882670428252483600823257530420752963450\n",
        "digits = []\n",
        "while n > 1:\n",
        "  digits.insert(0,n%10)\n",
        "  n = n//10\n",
        "  #print(n, digits)\n",
        "\n",
        "consecutive = 13\n",
        "product = 1\n",
        "max_product = 1\n",
        "\n",
        "for j in range(len(digits) - consecutive + 1):\n",
        "  for k in range(consecutive):\n",
        "    product = product * digits[j+k]\n",
        "    if max_product < product:\n",
        "      index = j\n",
        "      #print(j,product,max_product,digits[j:j+consecutive])\n",
        "  max_product = max(product, max_product)\n",
        "\n",
        "  product = 1\n",
        "  #print(max_product)\n",
        "\n",
        "#print(index)\n",
        "\n",
        "consecutive_digits = \"\"\n",
        "for m in range (consecutive):\n",
        "  if m < consecutive - 1:\n",
        "    consecutive_digits = consecutive_digits + str(digits[index+m]) + \"×\"\n",
        "  elif m == consecutive - 1:\n",
        "    consecutive_digits = consecutive_digits + str(digits[index+m])\n",
        "\n",
        "# The four adjacent digits in the 1000-digit number that have\n",
        "# the greatest product are 9 × 9 × 8 × 9 = 5832.   \n",
        "print(\"The\", consecutive, \"adjacent digits that have the greatest product are \\n\" +\n",
        "      consecutive_digits,\"=\", str(max_product) + \".\")"
      ],
      "metadata": {
        "colab": {
          "base_uri": "https://localhost:8080/"
        },
        "id": "BEpeU6sIVhm_",
        "outputId": "82800ca6-4ec0-41c9-b0d9-7f918ff756b1"
      },
      "execution_count": null,
      "outputs": [
        {
          "output_type": "stream",
          "name": "stdout",
          "text": [
            "The 13 adjacent digits that have the greatest product are \n",
            "5×5×7×6×6×8×9×6×6×4×8×9×5 = 23514624000.\n"
          ]
        }
      ]
    },
    {
      "cell_type": "code",
      "source": [
        "# Special Pythagorean triplet\n",
        "# Problem 9\n",
        "# A Pythagorean triplet is a set of three natural numbers, a < b < c, for which,\n",
        "# a^2 + b^2 = c^2\n",
        "# For example, 3^2 + 4^2 = 9 + 16 = 25 = 5^2.\n",
        "\n",
        "# There exists exactly one Pythagorean triplet for which a + b + c = 1000.\n",
        "# Find the product abc.\n",
        "\n",
        "import math\n",
        "\n",
        "sum = 1000\n",
        "\n",
        "for a in range(3,sum):\n",
        "  for b in range(a+1,sum):\n",
        "    c = math.sqrt(a**2 + b**2)\n",
        "    if c%1 == 0 and b < c and (a + b + int(c) == sum):\n",
        "      print(\"abc = \" + str(a*b*int(c)) + \".\")\n",
        "      break"
      ],
      "metadata": {
        "colab": {
          "base_uri": "https://localhost:8080/"
        },
        "id": "3uoUvo-yssuv",
        "outputId": "4b7e495b-6844-49bc-b55a-fde94c3bb616"
      },
      "execution_count": null,
      "outputs": [
        {
          "output_type": "stream",
          "name": "stdout",
          "text": [
            "abc = 31875000.\n"
          ]
        }
      ]
    },
    {
      "cell_type": "code",
      "source": [
        "# Summation of primes\n",
        "# Problem 10\n",
        "# The sum of the primes below 10 is 2 + 3 + 5 + 7 = 17.\n",
        "\n",
        "# Find the sum of all the primes below two million.\n",
        "\n",
        "import math\n",
        "\n",
        "def prime(n):\n",
        "  a = True\n",
        "  if n < 2:\n",
        "    a = False\n",
        "  elif n == 2:\n",
        "    a = True\n",
        "  elif n > 2:\n",
        "    for d in range(2, math.floor(math.sqrt(n))+1):\n",
        "        if n%d == 0:\n",
        "          a = False\n",
        "  return bool(a)\n",
        "\n",
        "sum = 0\n",
        "upper_bound = 2000000\n",
        "\n",
        "for i in range(2, upper_bound):\n",
        "  if prime(i) == True:\n",
        "    #print(i)\n",
        "    sum = sum + i\n",
        "\n",
        "print(sum)\n"
      ],
      "metadata": {
        "colab": {
          "base_uri": "https://localhost:8080/"
        },
        "id": "AHICLv7s3QPK",
        "outputId": "7472c5f7-1300-4b07-9482-c2c78c653426"
      },
      "execution_count": null,
      "outputs": [
        {
          "output_type": "stream",
          "name": "stdout",
          "text": [
            "142913828922\n"
          ]
        }
      ]
    },
    {
      "cell_type": "code",
      "source": [
        "import math\n",
        "\n",
        "def add_numbers(num1, num2):\n",
        "    sum = num1 + num2\n",
        "    return sum\n",
        "\n",
        "# calling function with two values\n",
        "result = add_numbers(5, 4)\n",
        "\n",
        "print('Sum: ', add_numbers(5, 4))"
      ],
      "metadata": {
        "colab": {
          "base_uri": "https://localhost:8080/"
        },
        "id": "TadkgOAF-pGc",
        "outputId": "45cf2044-0292-4825-d6b7-7a16994c2ddd"
      },
      "execution_count": null,
      "outputs": [
        {
          "output_type": "stream",
          "name": "stdout",
          "text": [
            "Sum:  9\n"
          ]
        }
      ]
    }
  ]
}
